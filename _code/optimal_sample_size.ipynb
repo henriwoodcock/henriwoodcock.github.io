{
 "cells": [
  {
   "cell_type": "markdown",
   "metadata": {},
   "source": [
    "# Optimal Sample Size"
   ]
  },
  {
   "cell_type": "code",
   "execution_count": 1,
   "metadata": {},
   "outputs": [],
   "source": [
    "import scipy.stats\n",
    "import numpy as np\n",
    "np.random.seed(2222)"
   ]
  },
  {
   "cell_type": "markdown",
   "metadata": {},
   "source": [
    "First generate a p value, but do not look at the value."
   ]
  },
  {
   "cell_type": "code",
   "execution_count": 2,
   "metadata": {},
   "outputs": [],
   "source": [
    "p = np.random.rand(1)"
   ]
  },
  {
   "cell_type": "code",
   "execution_count": 3,
   "metadata": {},
   "outputs": [],
   "source": [
    "total_population = [1] * int(1000000 * p) + [0] * int(1000000 * (1-p))"
   ]
  },
  {
   "cell_type": "code",
   "execution_count": 4,
   "metadata": {},
   "outputs": [],
   "source": [
    "np.random.shuffle(total_population)"
   ]
  },
  {
   "cell_type": "markdown",
   "metadata": {},
   "source": [
    "So we have a population here with a measurement which is represented by a 1 or 0. Lets take a look at a snippet. "
   ]
  },
  {
   "cell_type": "code",
   "execution_count": 5,
   "metadata": {},
   "outputs": [
    {
     "data": {
      "text/plain": [
       "[0, 1, 1, 0, 0, 1, 1, 0, 1, 1]"
      ]
     },
     "execution_count": 5,
     "metadata": {},
     "output_type": "execute_result"
    }
   ],
   "source": [
    "total_population[:10]"
   ]
  },
  {
   "cell_type": "markdown",
   "metadata": {},
   "source": [
    "It is important to choose your confidence level now and the margin of error.\n",
    "\n",
    "Here I will choose a confidence level of 95%, now to calculate the z-score"
   ]
  },
  {
   "cell_type": "code",
   "execution_count": 6,
   "metadata": {},
   "outputs": [
    {
     "name": "stdout",
     "output_type": "stream",
     "text": [
      "z value for 95% confidence level 1.959963984540054\n"
     ]
    }
   ],
   "source": [
    "z = scipy.stats.norm.ppf(1- 0.05/2)\n",
    "print(\"z value for 95% confidence level\", z)"
   ]
  },
  {
   "cell_type": "markdown",
   "metadata": {},
   "source": [
    "Now we need to set a margin of error, I will set a margin of error of 0.01 which means we are correct within 1%."
   ]
  },
  {
   "cell_type": "code",
   "execution_count": 7,
   "metadata": {},
   "outputs": [],
   "source": [
    "moe = 0.01"
   ]
  },
  {
   "cell_type": "markdown",
   "metadata": {},
   "source": [
    "Lets set $\\sigma = \\frac{1}{2}$ which is the highest variance for a binomial distribution."
   ]
  },
  {
   "cell_type": "code",
   "execution_count": 8,
   "metadata": {},
   "outputs": [],
   "source": [
    "sigma = 0.5"
   ]
  },
  {
   "cell_type": "markdown",
   "metadata": {},
   "source": [
    "We can now calculate the required value of n for our sample size."
   ]
  },
  {
   "cell_type": "code",
   "execution_count": 9,
   "metadata": {},
   "outputs": [
    {
     "name": "stdout",
     "output_type": "stream",
     "text": [
      "9603.647051735314\n"
     ]
    }
   ],
   "source": [
    "n = z**2/(2*moe)**2\n",
    "print(n)"
   ]
  },
  {
   "cell_type": "markdown",
   "metadata": {},
   "source": [
    "Finally lets do 10 tests, if correct we should (it's still random so not guaranteed) have atleast 9/10 of these tests with $\\hat{p}$ within 1% of $p$"
   ]
  },
  {
   "cell_type": "code",
   "execution_count": 10,
   "metadata": {},
   "outputs": [
    {
     "name": "stdout",
     "output_type": "stream",
     "text": [
      "sample 0 : [ True] p hat value =  0.7282382340691379\n",
      "sample 1 : [ True] p hat value =  0.7242815493544357\n",
      "sample 2 : [ True] p hat value =  0.7303206997084548\n",
      "sample 3 : [ True] p hat value =  0.7235526863806747\n",
      "sample 4 : [ True] p hat value =  0.7275093710953769\n",
      "sample 5 : [ True] p hat value =  0.7256351520199916\n",
      "sample 6 : [ True] p hat value =  0.7346938775510204\n",
      "sample 7 : [ True] p hat value =  0.720637234485631\n",
      "sample 8 : [ True] p hat value =  0.7325072886297376\n",
      "sample 9 : [ True] p hat value =  0.7337567680133278\n"
     ]
    }
   ],
   "source": [
    "for i in range(10):\n",
    "    sample = np.random.choice(total_population, int(n+1))\n",
    "    p_hat = sum(sample) / len(sample)\n",
    "    correct = abs(p_hat - p) < 0.01\n",
    "    print(\"sample\",i,\":\", correct, \"p hat value = \", p_hat)"
   ]
  },
  {
   "cell_type": "code",
   "execution_count": 11,
   "metadata": {},
   "outputs": [
    {
     "name": "stdout",
     "output_type": "stream",
     "text": [
      "True p value = 0.7272001796427789\n"
     ]
    }
   ],
   "source": [
    "print(\"True p value =\", p[0])"
   ]
  }
 ],
 "metadata": {
  "kernelspec": {
   "display_name": "Python 3",
   "language": "python",
   "name": "python3"
  },
  "language_info": {
   "codemirror_mode": {
    "name": "ipython",
    "version": 3
   },
   "file_extension": ".py",
   "mimetype": "text/x-python",
   "name": "python",
   "nbconvert_exporter": "python",
   "pygments_lexer": "ipython3",
   "version": "3.7.6"
  }
 },
 "nbformat": 4,
 "nbformat_minor": 4
}
